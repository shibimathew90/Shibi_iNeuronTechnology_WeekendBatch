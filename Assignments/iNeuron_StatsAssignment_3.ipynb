{
 "cells": [
  {
   "cell_type": "markdown",
   "metadata": {},
   "source": [
    "#  Problem 1"
   ]
  },
  {
   "cell_type": "markdown",
   "metadata": {},
   "source": [
    "Ho : mean = 100\n",
    "\n",
    "Ha : mean > 100\n",
    "\n",
    "Assume, significance level α = 0.05. \n",
    "\n",
    "z = (108 – 100) / (15/sqrt(36)) = 3.20\n",
    "\n",
    "p-value with z of 3.20 = 0.993. \n",
    "\n",
    "So probability of value more than or equal to 108 is (1-0.993) = 0.0007. This value is less than significance level (0.05). \n",
    "\n",
    "Hence, we reject the null hypothesis and raw cornstarch effect is present.\n"
   ]
  },
  {
   "cell_type": "code",
   "execution_count": null,
   "metadata": {},
   "outputs": [],
   "source": []
  },
  {
   "cell_type": "markdown",
   "metadata": {},
   "source": [
    "# Problem 2"
   ]
  },
  {
   "cell_type": "markdown",
   "metadata": {},
   "source": [
    "P1 = Proportion of Republican voters in first state, \n",
    "\n",
    "P2 = Proportion of Republican voters in second state, \n",
    "\n",
    "p1 = Proportion of Republican voters in sample from the first state\n",
    "\n",
    "p2 = Proportion of Republican voters in the sample from the second state. \n",
    "\n",
    "n1 = Number of voters sampled from the first state = 100\n",
    "\n",
    "n2 = Number of voters sampled from the second state = 100\n",
    "\n",
    "n1P1 = 100 * 0.52 = 52, \n",
    "\n",
    "n1(1 – P1) = 100 * 0.48 = 48,\n",
    "\n",
    "n2P2 = 100 * 0.47 = 47\n",
    "\n",
    "n2(1 – P2) = 100 * 0.53 = 53\n",
    "\n",
    "All sample size’s are large enough. \n",
    "\n",
    "Mean  = P1 – P2 = 0.52-0.47 = 0.05\n",
    "\n",
    "Sd =  sqrt( [ P1(1 - P1) / n1 ] + [ P2(1 - P2) / n2 ] ) = 0.0706\n",
    "\n",
    "Z score =  (0 - 0.05)/0.0706 = -0.7082, p-value = 0.24"
   ]
  },
  {
   "cell_type": "code",
   "execution_count": null,
   "metadata": {},
   "outputs": [],
   "source": []
  },
  {
   "cell_type": "markdown",
   "metadata": {},
   "source": [
    "# Problem 3"
   ]
  },
  {
   "cell_type": "markdown",
   "metadata": {},
   "source": [
    "Z = (1100 – 1026) / 209 = 0.354\n",
    "\n",
    "i.e. score is 0.354 sd above the average test taker\n"
   ]
  },
  {
   "cell_type": "code",
   "execution_count": null,
   "metadata": {},
   "outputs": [],
   "source": []
  }
 ],
 "metadata": {
  "kernelspec": {
   "display_name": "Python 3",
   "language": "python",
   "name": "python3"
  },
  "language_info": {
   "codemirror_mode": {
    "name": "ipython",
    "version": 3
   },
   "file_extension": ".py",
   "mimetype": "text/x-python",
   "name": "python",
   "nbconvert_exporter": "python",
   "pygments_lexer": "ipython3",
   "version": "3.6.5"
  }
 },
 "nbformat": 4,
 "nbformat_minor": 2
}

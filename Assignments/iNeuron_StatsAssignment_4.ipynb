{
 "cells": [
  {
   "cell_type": "markdown",
   "metadata": {},
   "source": [
    "# Problem 1"
   ]
  },
  {
   "cell_type": "raw",
   "metadata": {},
   "source": [
    "Since the expected freq = total row * total column / grand total\n",
    "\n",
    "        High School\t Bachelors\tMasters\tPh.d.\tTotal\n",
    "Female\t50.886\t     49.868\t    50.377\t49.868\t201\n",
    "Male\t49.114\t     48.132\t    48.623\t48.132\t194\n",
    "Total\t100\t         98\t        99\t    98\t    395\n",
    "\n",
    "X2  =(60−50.886)2/50.886+⋯+(57−48.132)2/48.132=8.006\n",
    "\n",
    "Deg. of freedom  = (4 – 1) ( 2 – 1) = 3\n",
    "\n",
    "Critical value of X2 with 3 degree of freedom is 7.815. Since 8.006 > 7.815, we reject the null hypothesis and conclude that the education level depends on gender at a 5% level of significance.\n"
   ]
  },
  {
   "cell_type": "code",
   "execution_count": null,
   "metadata": {},
   "outputs": [],
   "source": []
  },
  {
   "cell_type": "markdown",
   "metadata": {},
   "source": [
    "# Problem 2"
   ]
  },
  {
   "cell_type": "raw",
   "metadata": {},
   "source": [
    "Decision  ------> Reject Ho since F > F-critical\n",
    "\t\n",
    "Effect size, η2\t--------> 0.62\n",
    "\t\n",
    "APA writeup\t\n",
    "F(2, 12) = 9.75, p < 0.05, η2 = 0.62\t\n"
   ]
  },
  {
   "cell_type": "code",
   "execution_count": null,
   "metadata": {},
   "outputs": [],
   "source": []
  },
  {
   "cell_type": "markdown",
   "metadata": {},
   "source": [
    "# Problem 3"
   ]
  },
  {
   "cell_type": "markdown",
   "metadata": {},
   "source": [
    "F-test = (variance of 10, 20, 30, 40, 50) / (variance of 5, 10, 15, 20, 25) = 250 / 62.5 = 4"
   ]
  },
  {
   "cell_type": "code",
   "execution_count": null,
   "metadata": {},
   "outputs": [],
   "source": []
  }
 ],
 "metadata": {
  "kernelspec": {
   "display_name": "Python 3",
   "language": "python",
   "name": "python3"
  },
  "language_info": {
   "codemirror_mode": {
    "name": "ipython",
    "version": 3
   },
   "file_extension": ".py",
   "mimetype": "text/x-python",
   "name": "python",
   "nbconvert_exporter": "python",
   "pygments_lexer": "ipython3",
   "version": "3.6.5"
  }
 },
 "nbformat": 4,
 "nbformat_minor": 2
}

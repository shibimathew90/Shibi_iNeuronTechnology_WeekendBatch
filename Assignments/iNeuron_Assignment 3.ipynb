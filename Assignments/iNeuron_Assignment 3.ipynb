{
 "cells": [
  {
   "cell_type": "markdown",
   "metadata": {},
   "source": [
    "# Assignment 3"
   ]
  },
  {
   "cell_type": "markdown",
   "metadata": {},
   "source": [
    "### Task 1.1"
   ]
  },
  {
   "cell_type": "code",
   "execution_count": 9,
   "metadata": {},
   "outputs": [
    {
     "name": "stdout",
     "output_type": "stream",
     "text": [
      "Division by ZERO error!!\n"
     ]
    }
   ],
   "source": [
    "def divide():\n",
    "    return 5/0\n",
    "\n",
    "try:\n",
    "    divide()\n",
    "except ZeroDivisionError as ze:\n",
    "    print(\"Division by ZERO error!!\")\n",
    "except:\n",
    "    print(\"Any other exception\")"
   ]
  },
  {
   "cell_type": "code",
   "execution_count": null,
   "metadata": {},
   "outputs": [],
   "source": []
  },
  {
   "cell_type": "markdown",
   "metadata": {},
   "source": [
    "### Task 1.2"
   ]
  },
  {
   "cell_type": "code",
   "execution_count": 5,
   "metadata": {},
   "outputs": [],
   "source": [
    "subject = [\"Americans\", \"Indians\"]\n",
    "verb = [\"Play\", \"watch\"]\n",
    "obj = [\"Baseball\",\"cricket\"]"
   ]
  },
  {
   "cell_type": "code",
   "execution_count": 7,
   "metadata": {},
   "outputs": [
    {
     "name": "stdout",
     "output_type": "stream",
     "text": [
      "Americans Play Baseball\n",
      "Americans Play cricket\n",
      "Americans watch Baseball\n",
      "Americans watch cricket\n",
      "Indians Play Baseball\n",
      "Indians Play cricket\n",
      "Indians watch Baseball\n",
      "Indians watch cricket\n"
     ]
    }
   ],
   "source": [
    "sentence = [(sub + \" \" + vb + \" \" + ob) for sub in subject for vb in verb for ob in obj]\n",
    "for sent in sentence:\n",
    "    print (sent)"
   ]
  },
  {
   "cell_type": "code",
   "execution_count": null,
   "metadata": {},
   "outputs": [],
   "source": []
  },
  {
   "cell_type": "markdown",
   "metadata": {},
   "source": [
    "### Task 2.1"
   ]
  },
  {
   "cell_type": "code",
   "execution_count": 20,
   "metadata": {},
   "outputs": [],
   "source": [
    "def vander(x, N, order):\n",
    "    X = x.size\n",
    "    result_array = np.empty((N + 1, X), dtype = int)\n",
    "    \n",
    "    if order.upper() == \"TRUE\":\n",
    "        for i in range(N + 1):\n",
    "            power_vector = np.array(np.power(x, i))\n",
    "            result_array[i] = power_vector\n",
    "    else:\n",
    "        for i in range(N-1, -1, -1):\n",
    "            power_vector = np.array(np.power(x, i))\n",
    "            result_array[(N-1)-i] = power_vector\n",
    "    return result_array"
   ]
  },
  {
   "cell_type": "code",
   "execution_count": 23,
   "metadata": {},
   "outputs": [
    {
     "name": "stdout",
     "output_type": "stream",
     "text": [
      "Enter the value of N power :3\n",
      "Enter comma separated list of elements eg. 1,2,3 :\n",
      "1, 2, 3, 4\n",
      "Input vector is :\n",
      "[1 2 3 4]\n",
      "Enter 'True' for increasing order of powers else enter 'False' :False\n",
      "The final matrix is :\n",
      "[[ 1  1  1  1]\n",
      " [ 4  2  1  8]\n",
      " [ 9  3  1 27]\n",
      " [16  4  1 64]]\n"
     ]
    }
   ],
   "source": [
    "import numpy as np\n",
    "\n",
    "N = int(input('Enter the value of N power :'))\n",
    "\n",
    "print('Enter comma separated list of elements eg. 1,2,3 :')\n",
    "input_vector = input()\n",
    "input_list = list(map(int, input_vector.split(',')))\n",
    "x = np.array(input_list)\n",
    "print('Input vector is :')\n",
    "print(x)\n",
    "\n",
    "order = input(\"Enter 'True' for increasing order of powers else enter 'False' :\")\n",
    "\n",
    "result_array = vander(x,N,order)\n",
    "print('The final matrix is :')\n",
    "print(result_array.T)"
   ]
  },
  {
   "cell_type": "code",
   "execution_count": null,
   "metadata": {},
   "outputs": [],
   "source": []
  }
 ],
 "metadata": {
  "kernelspec": {
   "display_name": "Python 3",
   "language": "python",
   "name": "python3"
  },
  "language_info": {
   "codemirror_mode": {
    "name": "ipython",
    "version": 3
   },
   "file_extension": ".py",
   "mimetype": "text/x-python",
   "name": "python",
   "nbconvert_exporter": "python",
   "pygments_lexer": "ipython3",
   "version": "3.6.5"
  }
 },
 "nbformat": 4,
 "nbformat_minor": 2
}
